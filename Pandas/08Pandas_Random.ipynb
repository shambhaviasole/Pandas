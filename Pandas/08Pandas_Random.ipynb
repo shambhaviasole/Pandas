{
  "nbformat": 4,
  "nbformat_minor": 0,
  "metadata": {
    "colab": {
      "provenance": []
    },
    "kernelspec": {
      "name": "python3",
      "display_name": "Python 3"
    },
    "language_info": {
      "name": "python"
    }
  },
  "cells": [
    {
      "cell_type": "code",
      "execution_count": null,
      "metadata": {
        "id": "0Oo6eP3XeL2b"
      },
      "outputs": [],
      "source": [
        "import numpy\n",
        "import pandas"
      ]
    },
    {
      "cell_type": "code",
      "source": [
        "df=pandas.DataFrame(numpy.random.rand(10,4),columns=['mumbai','hyderabad','london','dubai'])"
      ],
      "metadata": {
        "id": "rBn-HIolejxQ"
      },
      "execution_count": null,
      "outputs": []
    },
    {
      "cell_type": "code",
      "source": [
        "print(df)"
      ],
      "metadata": {
        "colab": {
          "base_uri": "https://localhost:8080/"
        },
        "id": "zcWAleUFe8Iu",
        "outputId": "b846c5b4-1607-4273-b2ff-0dfcdb1e8dc3"
      },
      "execution_count": null,
      "outputs": [
        {
          "output_type": "stream",
          "name": "stdout",
          "text": [
            "     mumbai  hyderabad    london     dubai\n",
            "0  0.072591   0.256328  0.965233  0.394584\n",
            "1  0.972325   0.780313  0.391112  0.016573\n",
            "2  0.024323   0.372673  0.577141  0.142398\n",
            "3  0.310416   0.345274  0.787668  0.653164\n",
            "4  0.962965   0.073208  0.781629  0.613103\n",
            "5  0.322927   0.133827  0.293439  0.747672\n",
            "6  0.893242   0.715556  0.687597  0.103304\n",
            "7  0.290990   0.325555  0.135572  0.966612\n",
            "8  0.805455   0.744434  0.934889  0.582288\n",
            "9  0.069132   0.762494  0.895667  0.464637\n"
          ]
        }
      ]
    }
  ]
}