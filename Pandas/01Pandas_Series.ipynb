{
  "nbformat": 4,
  "nbformat_minor": 0,
  "metadata": {
    "colab": {
      "provenance": []
    },
    "kernelspec": {
      "name": "python3",
      "display_name": "Python 3"
    },
    "language_info": {
      "name": "python"
    }
  },
  "cells": [
    {
      "cell_type": "code",
      "execution_count": null,
      "metadata": {
        "id": "7-2FNGwGzGxo"
      },
      "outputs": [],
      "source": [
        "import numpy\n",
        "import pandas"
      ]
    },
    {
      "cell_type": "code",
      "source": [
        "lst=['java','python','sql',9,'microsoft','volkswagen',26.13]"
      ],
      "metadata": {
        "id": "iTmMqIa_43W_"
      },
      "execution_count": null,
      "outputs": []
    },
    {
      "cell_type": "code",
      "source": [
        "arr=numpy.array(lst)\n",
        "print(arr)"
      ],
      "metadata": {
        "colab": {
          "base_uri": "https://localhost:8080/"
        },
        "id": "VVlWsGPV5GEF",
        "outputId": "0166a660-efed-49b6-ec48-6cf514af35ea"
      },
      "execution_count": null,
      "outputs": [
        {
          "output_type": "stream",
          "name": "stdout",
          "text": [
            "['java' 'python' 'sql' '9' 'microsoft' 'volkswagen' '26.13']\n"
          ]
        }
      ]
    },
    {
      "cell_type": "code",
      "source": [
        "ser=pandas.Series(lst)\n",
        "print(ser)"
      ],
      "metadata": {
        "colab": {
          "base_uri": "https://localhost:8080/"
        },
        "id": "U523E8Kw5YZY",
        "outputId": "89b0708e-eeab-4419-cff8-4d59eed074fb"
      },
      "execution_count": null,
      "outputs": [
        {
          "output_type": "stream",
          "name": "stdout",
          "text": [
            "0          java\n",
            "1        python\n",
            "2           sql\n",
            "3             9\n",
            "4     microsoft\n",
            "5    volkswagen\n",
            "6         26.13\n",
            "dtype: object\n"
          ]
        }
      ]
    },
    {
      "cell_type": "code",
      "source": [
        "print(ser[4])"
      ],
      "metadata": {
        "colab": {
          "base_uri": "https://localhost:8080/"
        },
        "id": "Yi4Kn3ni5qn0",
        "outputId": "057c85fe-5962-49e8-bf05-665a27449eb2"
      },
      "execution_count": null,
      "outputs": [
        {
          "output_type": "stream",
          "name": "stdout",
          "text": [
            "microsoft\n"
          ]
        }
      ]
    },
    {
      "cell_type": "code",
      "source": [
        "ser=pandas.Series(arr)\n",
        "print(ser)"
      ],
      "metadata": {
        "colab": {
          "base_uri": "https://localhost:8080/"
        },
        "id": "jO4qRBih53Y2",
        "outputId": "5273091f-ec4d-4ab8-ed0e-a6dd04a71614"
      },
      "execution_count": null,
      "outputs": [
        {
          "output_type": "stream",
          "name": "stdout",
          "text": [
            "0          java\n",
            "1        python\n",
            "2           sql\n",
            "3             9\n",
            "4     microsoft\n",
            "5    volkswagen\n",
            "6         26.13\n",
            "dtype: object\n"
          ]
        }
      ]
    }
  ]
}