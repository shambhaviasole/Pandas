{
  "nbformat": 4,
  "nbformat_minor": 0,
  "metadata": {
    "colab": {
      "provenance": []
    },
    "kernelspec": {
      "name": "python3",
      "display_name": "Python 3"
    },
    "language_info": {
      "name": "python"
    }
  },
  "cells": [
    {
      "cell_type": "code",
      "execution_count": null,
      "metadata": {
        "id": "qjNEKxWvMFlU"
      },
      "outputs": [],
      "source": [
        "import pandas"
      ]
    },
    {
      "cell_type": "code",
      "source": [
        "url=\"https://raw.githubusercontent.com/sohamglobal/datasets/refs/heads/main/cust.csv\""
      ],
      "metadata": {
        "id": "GIctzYydMM5o"
      },
      "execution_count": null,
      "outputs": []
    },
    {
      "cell_type": "code",
      "source": [
        "df=pandas.read_csv(url)\n",
        "print(df)"
      ],
      "metadata": {
        "colab": {
          "base_uri": "https://localhost:8080/"
        },
        "id": "WjHnniSfMlfY",
        "outputId": "cd9d10dd-1961-46dc-db5e-8cc0d9d7ef95"
      },
      "execution_count": null,
      "outputs": [
        {
          "output_type": "stream",
          "name": "stdout",
          "text": [
            "    custno                 custnm prodid      paymode\n",
            "0       12               Joe Root  hp419   netbanking\n",
            "1       13           Boris Becker  tg765          cod\n",
            "2       17     Michael Schumacher  lt532  credit card\n",
            "3       23  Arnold Schwarzenegger  hp419  credit card\n",
            "4       26            Jos Buttler  lt532  credit card\n",
            "5       32       Rebecca Ferguson  ip627   netbanking\n",
            "6       37             Bill Gates  ms488   debit card\n",
            "7       41          Mohamed Salah  sg375  credit card\n",
            "8       53      Ferdinand Porsche  tg765  credit card\n",
            "9       58             Tom Cruise  ss210          cod\n",
            "10      67          Roger Federer  gt261  credit card\n",
            "11      74           Chris Woakes  dm298  credit card\n",
            "12      75        Charles Leclerc  tg765   netbanking\n"
          ]
        }
      ]
    },
    {
      "cell_type": "code",
      "source": [
        "url=\"https://raw.githubusercontent.com/sohamglobal/datasets/refs/heads/main/Flipkart_Mobiles.csv\""
      ],
      "metadata": {
        "id": "At-nUHTUNBhk"
      },
      "execution_count": null,
      "outputs": []
    },
    {
      "cell_type": "code",
      "source": [
        "df=pandas.read_csv(url)\n",
        "print(df)"
      ],
      "metadata": {
        "colab": {
          "base_uri": "https://localhost:8080/"
        },
        "id": "hLX6CL-0NEIS",
        "outputId": "0cdb674f-536b-4865-9e33-47150e1ae531"
      },
      "execution_count": null,
      "outputs": [
        {
          "output_type": "stream",
          "name": "stdout",
          "text": [
            "        Brand   Model            Color Memory Storage  Rating  Selling Price  \\\n",
            "0        OPPO     A53  Moonlight Black   4 GB   64 GB     4.5          11990   \n",
            "1        OPPO     A53       Mint Cream   4 GB   64 GB     4.5          11990   \n",
            "2        OPPO     A53  Moonlight Black   6 GB  128 GB     4.3          13990   \n",
            "3        OPPO     A53       Mint Cream   6 GB  128 GB     4.3          13990   \n",
            "4        OPPO     A53   Electric Black   4 GB   64 GB     4.5          11990   \n",
            "...       ...     ...              ...    ...     ...     ...            ...   \n",
            "3109  SAMSUNG  M52 5G    Blazing Black   6 GB  128 GB     4.3          25990   \n",
            "3110  SAMSUNG  M52 5G         Icy Blue   6 GB  128 GB     4.3          25489   \n",
            "3111  SAMSUNG  M52 5G         Icy Blue   8 GB  128 GB     4.3          27239   \n",
            "3112  SAMSUNG  M52 5G      Slate Black   8 GB  128 GB     4.2          22989   \n",
            "3113  SAMSUNG  M52 5G         Sky Blue   8 GB  128 GB     4.2          20350   \n",
            "\n",
            "      Original Price  \n",
            "0              15990  \n",
            "1              15990  \n",
            "2              17990  \n",
            "3              17990  \n",
            "4              15990  \n",
            "...              ...  \n",
            "3109           25990  \n",
            "3110           28449  \n",
            "3111           31489  \n",
            "3112           22989  \n",
            "3113           22595  \n",
            "\n",
            "[3114 rows x 8 columns]\n"
          ]
        }
      ]
    },
    {
      "cell_type": "code",
      "source": [
        "#needs to be uploaded to colab files everytime\n",
        "url=\"NetflixOriginals.csv\"\n",
        "df=pandas.read_csv(url)\n",
        "print(df)"
      ],
      "metadata": {
        "colab": {
          "base_uri": "https://localhost:8080/"
        },
        "id": "HM2pdnDJOiwV",
        "outputId": "32dc5ffa-4242-490c-8ded-55fe1d72e6b2"
      },
      "execution_count": null,
      "outputs": [
        {
          "output_type": "stream",
          "name": "stdout",
          "text": [
            "                                           Title                  Genre  \\\n",
            "0                                Enter the Anime            Documentary   \n",
            "1                                    Dark Forces               Thriller   \n",
            "2                                        The App  Science fiction/Drama   \n",
            "3                                 The Open House        Horror thriller   \n",
            "4                                    Kaali Khuhi                Mystery   \n",
            "..                                           ...                    ...   \n",
            "579        Taylor Swift: Reputation Stadium Tour           Concert Film   \n",
            "580  Winter on Fire: Ukraine's Fight for Freedom            Documentary   \n",
            "581                      Springsteen on Broadway           One-man show   \n",
            "582    Emicida: AmarElo - It's All For Yesterday            Documentary   \n",
            "583     David Attenborough: A Life on Our Planet            Documentary   \n",
            "\n",
            "     Runtime  IMDB Score                  Language  \n",
            "0         58         2.5          English/Japanese  \n",
            "1         81         2.6                   Spanish  \n",
            "2         79         2.6                   Italian  \n",
            "3         94         3.2                   English  \n",
            "4         90         3.4                     Hindi  \n",
            "..       ...         ...                       ...  \n",
            "579      125         8.4                   English  \n",
            "580       91         8.4  English/Ukranian/Russian  \n",
            "581      153         8.5                   English  \n",
            "582       89         8.6                Portuguese  \n",
            "583       83         9.0                   English  \n",
            "\n",
            "[584 rows x 5 columns]\n"
          ]
        }
      ]
    }
  ]
}