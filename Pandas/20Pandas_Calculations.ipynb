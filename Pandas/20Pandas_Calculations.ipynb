{
  "nbformat": 4,
  "nbformat_minor": 0,
  "metadata": {
    "colab": {
      "provenance": []
    },
    "kernelspec": {
      "name": "python3",
      "display_name": "Python 3"
    },
    "language_info": {
      "name": "python"
    }
  },
  "cells": [
    {
      "cell_type": "code",
      "execution_count": null,
      "metadata": {
        "id": "V51iGo2zL9uo"
      },
      "outputs": [],
      "source": [
        "import pandas"
      ]
    },
    {
      "cell_type": "code",
      "source": [
        "data={\n",
        "    'A':[10,20,30,40,50],\n",
        "    'B':[5,15,25,35,45]\n",
        "}\n",
        "df=pandas.DataFrame(data)\n",
        "print(df)"
      ],
      "metadata": {
        "colab": {
          "base_uri": "https://localhost:8080/"
        },
        "id": "IC6zIIa1NOSa",
        "outputId": "e6a3d429-a02d-45e7-9ac8-f3adefead8b6"
      },
      "execution_count": null,
      "outputs": [
        {
          "output_type": "stream",
          "name": "stdout",
          "text": [
            "    A   B\n",
            "0  10   5\n",
            "1  20  15\n",
            "2  30  25\n",
            "3  40  35\n",
            "4  50  45\n"
          ]
        }
      ]
    },
    {
      "cell_type": "code",
      "source": [
        "print(df+3)"
      ],
      "metadata": {
        "colab": {
          "base_uri": "https://localhost:8080/"
        },
        "id": "Us8lnrGVNzDt",
        "outputId": "cf4f31d5-1145-489e-a66d-06ed7513eb6b"
      },
      "execution_count": null,
      "outputs": [
        {
          "output_type": "stream",
          "name": "stdout",
          "text": [
            "    A   B\n",
            "0  13   8\n",
            "1  23  18\n",
            "2  33  28\n",
            "3  43  38\n",
            "4  53  48\n"
          ]
        }
      ]
    },
    {
      "cell_type": "code",
      "source": [
        "print(df)"
      ],
      "metadata": {
        "colab": {
          "base_uri": "https://localhost:8080/"
        },
        "id": "QInK1AjaN6Lc",
        "outputId": "71f4815f-da37-4ef2-9a4b-5f61ffafd685"
      },
      "execution_count": null,
      "outputs": [
        {
          "output_type": "stream",
          "name": "stdout",
          "text": [
            "    A   B\n",
            "0  10   5\n",
            "1  20  15\n",
            "2  30  25\n",
            "3  40  35\n",
            "4  50  45\n"
          ]
        }
      ]
    },
    {
      "cell_type": "code",
      "source": [
        "print(df['A']-df['B'])"
      ],
      "metadata": {
        "colab": {
          "base_uri": "https://localhost:8080/"
        },
        "id": "tXzIPlepOJLw",
        "outputId": "edc14350-52f2-4c53-c6b1-9984893469d4"
      },
      "execution_count": null,
      "outputs": [
        {
          "output_type": "stream",
          "name": "stdout",
          "text": [
            "0    5\n",
            "1    5\n",
            "2    5\n",
            "3    5\n",
            "4    5\n",
            "dtype: int64\n"
          ]
        }
      ]
    },
    {
      "cell_type": "code",
      "source": [
        "print(df['A']**2)"
      ],
      "metadata": {
        "colab": {
          "base_uri": "https://localhost:8080/"
        },
        "id": "0N0vP5P3OTZS",
        "outputId": "9ba841e1-2f58-455c-c369-6efe362e92ca"
      },
      "execution_count": null,
      "outputs": [
        {
          "output_type": "stream",
          "name": "stdout",
          "text": [
            "0     100\n",
            "1     400\n",
            "2     900\n",
            "3    1600\n",
            "4    2500\n",
            "Name: A, dtype: int64\n"
          ]
        }
      ]
    },
    {
      "cell_type": "code",
      "source": [
        "print(df.mean())"
      ],
      "metadata": {
        "colab": {
          "base_uri": "https://localhost:8080/"
        },
        "id": "YqRPSeGROe51",
        "outputId": "cc3dad7f-cb96-4ed5-bec8-3fffcea400a7"
      },
      "execution_count": null,
      "outputs": [
        {
          "output_type": "stream",
          "name": "stdout",
          "text": [
            "A    30.0\n",
            "B    25.0\n",
            "dtype: float64\n"
          ]
        }
      ]
    },
    {
      "cell_type": "code",
      "source": [
        "print(df.median())"
      ],
      "metadata": {
        "colab": {
          "base_uri": "https://localhost:8080/"
        },
        "id": "j21aRp2lOtCg",
        "outputId": "c0d25d9c-1b8a-4a2e-ed63-98fa626bc40c"
      },
      "execution_count": null,
      "outputs": [
        {
          "output_type": "stream",
          "name": "stdout",
          "text": [
            "A    30.0\n",
            "B    25.0\n",
            "dtype: float64\n"
          ]
        }
      ]
    },
    {
      "cell_type": "code",
      "source": [
        "print(df.sum())"
      ],
      "metadata": {
        "colab": {
          "base_uri": "https://localhost:8080/"
        },
        "id": "8uER24A6PjUN",
        "outputId": "ad363eae-fe32-4791-a3fd-64732327dbb4"
      },
      "execution_count": null,
      "outputs": [
        {
          "output_type": "stream",
          "name": "stdout",
          "text": [
            "A    150\n",
            "B    125\n",
            "dtype: int64\n"
          ]
        }
      ]
    },
    {
      "cell_type": "code",
      "source": [
        "print(df.min())"
      ],
      "metadata": {
        "colab": {
          "base_uri": "https://localhost:8080/"
        },
        "id": "9Stv6eY-PvUK",
        "outputId": "713c400f-5fbc-473b-96e1-303c822dc4c5"
      },
      "execution_count": null,
      "outputs": [
        {
          "output_type": "stream",
          "name": "stdout",
          "text": [
            "A    10\n",
            "B     5\n",
            "dtype: int64\n"
          ]
        }
      ]
    },
    {
      "cell_type": "code",
      "source": [
        "print(df.max())"
      ],
      "metadata": {
        "colab": {
          "base_uri": "https://localhost:8080/"
        },
        "id": "Xtl0VLSwPzRc",
        "outputId": "707bbf46-fe4e-498f-9d0c-c9a0ad54325c"
      },
      "execution_count": null,
      "outputs": [
        {
          "output_type": "stream",
          "name": "stdout",
          "text": [
            "A    50\n",
            "B    45\n",
            "dtype: int64\n"
          ]
        }
      ]
    },
    {
      "cell_type": "code",
      "source": [
        "print(df.std())"
      ],
      "metadata": {
        "colab": {
          "base_uri": "https://localhost:8080/"
        },
        "id": "8qLdvDhPP2Oy",
        "outputId": "d28c644d-8434-4d22-d05d-afdda69cf1dc"
      },
      "execution_count": null,
      "outputs": [
        {
          "output_type": "stream",
          "name": "stdout",
          "text": [
            "A    15.811388\n",
            "B    15.811388\n",
            "dtype: float64\n"
          ]
        }
      ]
    },
    {
      "cell_type": "code",
      "source": [
        "print(df.count())"
      ],
      "metadata": {
        "colab": {
          "base_uri": "https://localhost:8080/"
        },
        "id": "eHuQINdnRfMV",
        "outputId": "bdbf24af-842b-4939-8157-80e1d4bf776f"
      },
      "execution_count": null,
      "outputs": [
        {
          "output_type": "stream",
          "name": "stdout",
          "text": [
            "A    5\n",
            "B    5\n",
            "dtype: int64\n"
          ]
        }
      ]
    },
    {
      "cell_type": "code",
      "source": [
        "print(df.cumsum())"
      ],
      "metadata": {
        "colab": {
          "base_uri": "https://localhost:8080/"
        },
        "id": "w_2WR2IZRrik",
        "outputId": "8adde500-cc98-4650-eb2d-bca29e4c6d8b"
      },
      "execution_count": null,
      "outputs": [
        {
          "output_type": "stream",
          "name": "stdout",
          "text": [
            "     A    B\n",
            "0   10    5\n",
            "1   30   20\n",
            "2   60   45\n",
            "3  100   80\n",
            "4  150  125\n"
          ]
        }
      ]
    },
    {
      "cell_type": "code",
      "source": [
        "print(df)\n",
        "print(df.sum())\n",
        "print(df.sum(axis=1))"
      ],
      "metadata": {
        "colab": {
          "base_uri": "https://localhost:8080/"
        },
        "id": "XULefhBQR0ZQ",
        "outputId": "7efa3b61-d1c7-41cc-ed57-dc9ea2b8c2d3"
      },
      "execution_count": null,
      "outputs": [
        {
          "output_type": "stream",
          "name": "stdout",
          "text": [
            "    A   B\n",
            "0  10   5\n",
            "1  20  15\n",
            "2  30  25\n",
            "3  40  35\n",
            "4  50  45\n",
            "A    150\n",
            "B    125\n",
            "dtype: int64\n",
            "0    15\n",
            "1    35\n",
            "2    55\n",
            "3    75\n",
            "4    95\n",
            "dtype: int64\n"
          ]
        }
      ]
    },
    {
      "cell_type": "code",
      "source": [
        "import numpy"
      ],
      "metadata": {
        "id": "4aLqX3FNSM97"
      },
      "execution_count": null,
      "outputs": []
    },
    {
      "cell_type": "code",
      "source": [
        "print(df.apply(numpy.sqrt))"
      ],
      "metadata": {
        "colab": {
          "base_uri": "https://localhost:8080/"
        },
        "id": "YKLj3N7VSO_T",
        "outputId": "9f833163-9e00-461e-b310-750a0b4c4ba1"
      },
      "execution_count": null,
      "outputs": [
        {
          "output_type": "stream",
          "name": "stdout",
          "text": [
            "          A         B\n",
            "0  3.162278  2.236068\n",
            "1  4.472136  3.872983\n",
            "2  5.477226  5.000000\n",
            "3  6.324555  5.916080\n",
            "4  7.071068  6.708204\n"
          ]
        }
      ]
    }
  ]
}