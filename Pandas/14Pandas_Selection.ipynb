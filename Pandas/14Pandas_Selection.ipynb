{
  "nbformat": 4,
  "nbformat_minor": 0,
  "metadata": {
    "colab": {
      "provenance": []
    },
    "kernelspec": {
      "name": "python3",
      "display_name": "Python 3"
    },
    "language_info": {
      "name": "python"
    }
  },
  "cells": [
    {
      "cell_type": "code",
      "execution_count": null,
      "metadata": {
        "id": "pMCuDfbY0FZW"
      },
      "outputs": [],
      "source": [
        "import pandas"
      ]
    },
    {
      "cell_type": "code",
      "source": [
        "url=\"http://sohamspring.azurewebsites.net/api/customers/all\"\n",
        "df=pandas.read_json(url)\n",
        "print(df)"
      ],
      "metadata": {
        "colab": {
          "base_uri": "https://localhost:8080/"
        },
        "id": "oe9jFnSG0Riq",
        "outputId": "74289c8b-4919-4dd0-c48e-eeebaa5df66a"
      },
      "execution_count": null,
      "outputs": [
        {
          "output_type": "stream",
          "name": "stdout",
          "text": [
            "    custno                 custnm         city prodid      paymode\n",
            "0        1               Joe Root       london  sk181   netbanking\n",
            "1        2           Boris Becker       berlin  ho162         cash\n",
            "2        3     Michael Schumacher       berlin  bm201  credit card\n",
            "3        4  Arnold Schwarzenegger   los angles  to191  credit card\n",
            "4        5            Jos Buttler   manchester  vw173  credit card\n",
            "5        6       Rebecca Ferguson     new york  bm185   netbanking\n",
            "6        7            Steffi Graf    stuttgart  vw171   debit card\n",
            "7        8           Keanu Reeves        tokyo  to191  credit card\n",
            "8        9       Sabastian Vettel   heppenheim  sk183  credit card\n",
            "9       10             Tom Cruise      chicago  bm201         cash\n",
            "10      11          Roger Federer    amsterdam  ho161  credit card\n",
            "11      12            Emily Blunt       london  vw172  credit card\n",
            "12      13         Shah Rukh Khan    new delhi  tt153   debit card\n",
            "13      14             A R Rahman      chennai  hd142         cash\n",
            "14      15                   Tabu    hyderabad  vw173   debit card\n",
            "15      16           Shabana Azmi       mumbai  ss210   debit card\n",
            "16      17                  Rekha      chennai  hd141         cash\n",
            "17      18       Amitabh Bachchan    allahabad  cs682         cash\n",
            "18      19             Imran Khan       lahore  to191   netbanking\n",
            "19      20           Dipika Singh       mumbai  to193   netbanking\n",
            "20      21              Alia Bhat      lucknow  hd142         cash\n",
            "21      22        Serena Williams     new york  ss210   netbanking\n",
            "22      23         Max Verstappen       berlin  rb739         cash\n",
            "23      24        Charles Leclerc  monte carlo  fr133   debit card\n",
            "24      25     Sylvester Stallone      Kolkata  ms134         cash\n",
            "25      26          Anne Hathaway         Agra  ms131   netbanking\n",
            "26      27         Genelia DSouza        Latur  bm202         cash\n"
          ]
        }
      ]
    },
    {
      "cell_type": "code",
      "source": [
        "#retrieve data of single column from the data frame\n",
        "print(df['custnm'])"
      ],
      "metadata": {
        "colab": {
          "base_uri": "https://localhost:8080/"
        },
        "id": "8ugopMJ20WGr",
        "outputId": "1f19d10e-727a-4b8c-9647-94eb364ae4df"
      },
      "execution_count": null,
      "outputs": [
        {
          "output_type": "stream",
          "name": "stdout",
          "text": [
            "0                  Joe Root\n",
            "1              Boris Becker\n",
            "2        Michael Schumacher\n",
            "3     Arnold Schwarzenegger\n",
            "4               Jos Buttler\n",
            "5          Rebecca Ferguson\n",
            "6               Steffi Graf\n",
            "7              Keanu Reeves\n",
            "8          Sabastian Vettel\n",
            "9                Tom Cruise\n",
            "10            Roger Federer\n",
            "11              Emily Blunt\n",
            "12           Shah Rukh Khan\n",
            "13               A R Rahman\n",
            "14                     Tabu\n",
            "15             Shabana Azmi\n",
            "16                    Rekha\n",
            "17         Amitabh Bachchan\n",
            "18               Imran Khan\n",
            "19             Dipika Singh\n",
            "20                Alia Bhat\n",
            "21          Serena Williams\n",
            "22           Max Verstappen\n",
            "23          Charles Leclerc\n",
            "24       Sylvester Stallone\n",
            "25            Anne Hathaway\n",
            "26           Genelia DSouza\n",
            "Name: custnm, dtype: object\n"
          ]
        }
      ]
    },
    {
      "cell_type": "code",
      "source": [
        "print(df[['custnm','city']])"
      ],
      "metadata": {
        "colab": {
          "base_uri": "https://localhost:8080/"
        },
        "id": "3QjNn7z60ypX",
        "outputId": "a48b21f4-eb77-4acc-c18f-eadb7898f427"
      },
      "execution_count": null,
      "outputs": [
        {
          "output_type": "stream",
          "name": "stdout",
          "text": [
            "                   custnm         city\n",
            "0                Joe Root       london\n",
            "1            Boris Becker       berlin\n",
            "2      Michael Schumacher       berlin\n",
            "3   Arnold Schwarzenegger   los angles\n",
            "4             Jos Buttler   manchester\n",
            "5        Rebecca Ferguson     new york\n",
            "6             Steffi Graf    stuttgart\n",
            "7            Keanu Reeves        tokyo\n",
            "8        Sabastian Vettel   heppenheim\n",
            "9              Tom Cruise      chicago\n",
            "10          Roger Federer    amsterdam\n",
            "11            Emily Blunt       london\n",
            "12         Shah Rukh Khan    new delhi\n",
            "13             A R Rahman      chennai\n",
            "14                   Tabu    hyderabad\n",
            "15           Shabana Azmi       mumbai\n",
            "16                  Rekha      chennai\n",
            "17       Amitabh Bachchan    allahabad\n",
            "18             Imran Khan       lahore\n",
            "19           Dipika Singh       mumbai\n",
            "20              Alia Bhat      lucknow\n",
            "21        Serena Williams     new york\n",
            "22         Max Verstappen       berlin\n",
            "23        Charles Leclerc  monte carlo\n",
            "24     Sylvester Stallone      Kolkata\n",
            "25          Anne Hathaway         Agra\n",
            "26         Genelia DSouza        Latur\n"
          ]
        }
      ]
    },
    {
      "cell_type": "code",
      "source": [
        "print(df.loc[3])"
      ],
      "metadata": {
        "colab": {
          "base_uri": "https://localhost:8080/"
        },
        "id": "OWkfoUoi1Af8",
        "outputId": "1857e64c-2b87-4e9e-8088-fb2459d18294"
      },
      "execution_count": null,
      "outputs": [
        {
          "output_type": "stream",
          "name": "stdout",
          "text": [
            "custno                         4\n",
            "custnm     Arnold Schwarzenegger\n",
            "city                  los angles\n",
            "prodid                     to191\n",
            "paymode              credit card\n",
            "Name: 3, dtype: object\n"
          ]
        }
      ]
    },
    {
      "cell_type": "code",
      "source": [
        "print(df.loc[2:5])"
      ],
      "metadata": {
        "colab": {
          "base_uri": "https://localhost:8080/"
        },
        "id": "5j6_KGfo1LKI",
        "outputId": "f3847390-ff03-4950-a5d6-6bc1df78efed"
      },
      "execution_count": null,
      "outputs": [
        {
          "output_type": "stream",
          "name": "stdout",
          "text": [
            "   custno                 custnm        city prodid      paymode\n",
            "2       3     Michael Schumacher      berlin  bm201  credit card\n",
            "3       4  Arnold Schwarzenegger  los angles  to191  credit card\n",
            "4       5            Jos Buttler  manchester  vw173  credit card\n",
            "5       6       Rebecca Ferguson    new york  bm185   netbanking\n"
          ]
        }
      ]
    },
    {
      "cell_type": "code",
      "source": [
        "print(df.loc[9,'custnm'])"
      ],
      "metadata": {
        "colab": {
          "base_uri": "https://localhost:8080/"
        },
        "id": "K49FFIWH1aHn",
        "outputId": "397b864f-bcd8-4298-d1d7-c5c792617f22"
      },
      "execution_count": null,
      "outputs": [
        {
          "output_type": "stream",
          "name": "stdout",
          "text": [
            "Tom Cruise\n"
          ]
        }
      ]
    },
    {
      "cell_type": "code",
      "source": [
        "print(df.loc[13,['custnm','city']])"
      ],
      "metadata": {
        "colab": {
          "base_uri": "https://localhost:8080/"
        },
        "id": "RfA_7uXC1nHc",
        "outputId": "9bf677f8-e8cc-43fd-eac5-9ec6ede9d343"
      },
      "execution_count": null,
      "outputs": [
        {
          "output_type": "stream",
          "name": "stdout",
          "text": [
            "custnm    A R Rahman\n",
            "city         chennai\n",
            "Name: 13, dtype: object\n"
          ]
        }
      ]
    },
    {
      "cell_type": "code",
      "source": [
        "print(df.loc[6:11,'custnm'])"
      ],
      "metadata": {
        "colab": {
          "base_uri": "https://localhost:8080/"
        },
        "id": "zW76UP8Z1w16",
        "outputId": "9b851986-4d8d-41b3-f084-f9ea8180f386"
      },
      "execution_count": null,
      "outputs": [
        {
          "output_type": "stream",
          "name": "stdout",
          "text": [
            "6          Steffi Graf\n",
            "7         Keanu Reeves\n",
            "8     Sabastian Vettel\n",
            "9           Tom Cruise\n",
            "10       Roger Federer\n",
            "11         Emily Blunt\n",
            "Name: custnm, dtype: object\n"
          ]
        }
      ]
    }
  ]
}