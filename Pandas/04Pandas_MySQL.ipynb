{
  "nbformat": 4,
  "nbformat_minor": 0,
  "metadata": {
    "colab": {
      "provenance": []
    },
    "kernelspec": {
      "name": "python3",
      "display_name": "Python 3"
    },
    "language_info": {
      "name": "python"
    }
  },
  "cells": [
    {
      "cell_type": "code",
      "execution_count": null,
      "metadata": {
        "colab": {
          "base_uri": "https://localhost:8080/"
        },
        "id": "jIKFSoDXEyks",
        "outputId": "02c2c36c-235d-408b-a9ab-f95e986a6cf4"
      },
      "outputs": [
        {
          "output_type": "stream",
          "name": "stdout",
          "text": [
            "Requirement already satisfied: pymysql in /usr/local/lib/python3.11/dist-packages (1.1.1)\n"
          ]
        }
      ],
      "source": [
        "pip install pymysql"
      ]
    },
    {
      "cell_type": "code",
      "source": [
        "import pymysql\n",
        "import pandas"
      ],
      "metadata": {
        "id": "KizwGoKaFA3m"
      },
      "execution_count": null,
      "outputs": []
    },
    {
      "cell_type": "code",
      "source": [
        "con=pymysql.connect(host='mysql-shambhavi-shambhaviasole9-python.h.aivencloud.com',port=10850,user='shambhavi',password='AVNS_HmvZ_bGZzAhYDISIpxY',database='shambhavidb')\n",
        "print(\"Python connected to cloud mysql database successfully.\")"
      ],
      "metadata": {
        "colab": {
          "base_uri": "https://localhost:8080/"
        },
        "id": "7882FAW5FFis",
        "outputId": "63dc45a8-d1d8-47b1-c8ba-a32fc0fa8d5c"
      },
      "execution_count": null,
      "outputs": [
        {
          "output_type": "stream",
          "name": "stdout",
          "text": [
            "Python connected to cloud mysql database successfully.\n"
          ]
        }
      ]
    },
    {
      "cell_type": "code",
      "source": [
        "df=pandas.read_sql(\"select * from employees\",con)\n",
        "print(df)"
      ],
      "metadata": {
        "colab": {
          "base_uri": "https://localhost:8080/"
        },
        "id": "8He64suUFw6O",
        "outputId": "621a3b7d-8aa0-4122-ac94-d7a773e0df78"
      },
      "execution_count": null,
      "outputs": [
        {
          "output_type": "stream",
          "name": "stderr",
          "text": [
            "<ipython-input-10-6c92d71df3fc>:1: UserWarning: pandas only supports SQLAlchemy connectable (engine/connection) or database string URI or sqlite3 DBAPI2 connection. Other DBAPI2 objects are not tested. Please consider using SQLAlchemy.\n",
            "  df=pandas.read_sql(\"select * from employees\",con)\n"
          ]
        },
        {
          "output_type": "stream",
          "name": "stdout",
          "text": [
            "   empnum        empname   empdept     emppost    emploc  empsalary\n",
            "0    1002    Purva Gorde       CSE     Manager  Amravati   23456.60\n",
            "1    1023  Tanmay Rajput  Accounts  Head Guide     Akola   12345.80\n",
            "2    1204         Petter      Mech   Assistant      Pune    1456.87\n",
            "3    1844           John        IT   Developer      Pune   17564.60\n"
          ]
        }
      ]
    },
    {
      "cell_type": "code",
      "source": [
        "df=pandas.read_sql(\"select * from accounts where balance<50000\",con)\n",
        "print(df)"
      ],
      "metadata": {
        "colab": {
          "base_uri": "https://localhost:8080/"
        },
        "id": "3oWAxaNOIA8S",
        "outputId": "48ae4a46-e481-431b-aee3-dee8295d6a72"
      },
      "execution_count": null,
      "outputs": [
        {
          "output_type": "stream",
          "name": "stderr",
          "text": [
            "<ipython-input-11-ff9e6be5bb4b>:1: UserWarning: pandas only supports SQLAlchemy connectable (engine/connection) or database string URI or sqlite3 DBAPI2 connection. Other DBAPI2 objects are not tested. Please consider using SQLAlchemy.\n",
            "  df=pandas.read_sql(\"select * from accounts where balance<50000\",con)\n"
          ]
        },
        {
          "output_type": "stream",
          "name": "stdout",
          "text": [
            "    accno                accnm  acctype  balance\n",
            "0    1002      maria sharapova    fixed  23100.0\n",
            "1    1003     mitchell johnson  current  15300.0\n",
            "2    1004          edan hazard   saving  41300.0\n",
            "3    1005   robert lewandowski   saving  21600.0\n",
            "4    1006        gabriel jesus    fixed  37100.0\n",
            "5    1008        marcos alonso   saving  33900.0\n",
            "6    1009           david luiz  current  28400.0\n",
            "7    1012          zaheer khan   saving  22570.0\n",
            "8    1013     antoine griezman    fixed  37640.0\n",
            "9    1016         garry cahill  current  39550.0\n",
            "10   1023             moin ali  current  26551.0\n",
            "11   1027     liam livingstone  current  49668.0\n",
            "12   1030           sadio mane      ppf  45889.0\n",
            "13   1033  alexandre lacazette   saving  36227.0\n",
            "14   1040          adil rashid      ppf  39870.0\n",
            "15   1042            jason roy   saving  29750.0\n",
            "16   1044           alex hales   saving  38540.0\n",
            "17   1052       max verstappen   saving  34200.0\n"
          ]
        }
      ]
    },
    {
      "cell_type": "code",
      "source": [
        "df=pandas.read_sql(\"select * from customers\",con)\n",
        "print(df)"
      ],
      "metadata": {
        "colab": {
          "base_uri": "https://localhost:8080/"
        },
        "id": "Pl0d8m66Io9T",
        "outputId": "b7397f37-27d4-4899-e4e7-9d284c03ebc3"
      },
      "execution_count": null,
      "outputs": [
        {
          "output_type": "stream",
          "name": "stderr",
          "text": [
            "<ipython-input-12-bec785368d9a>:1: UserWarning: pandas only supports SQLAlchemy connectable (engine/connection) or database string URI or sqlite3 DBAPI2 connection. Other DBAPI2 objects are not tested. Please consider using SQLAlchemy.\n",
            "  df=pandas.read_sql(\"select * from customers\",con)\n"
          ]
        },
        {
          "output_type": "stream",
          "name": "stdout",
          "text": [
            "    custno                 custnm         city  carid      paymode\n",
            "0        1               Joe Root       london  sk181   netbanking\n",
            "1        2           Boris Becker       berlin  ho162         cash\n",
            "2        3     Michael Schumacher       berlin  bm201  credit card\n",
            "3        4  Arnold Schwarzenegger   los angles  to191  credit card\n",
            "4        5            Jos Buttler   manchester  vw173  credit card\n",
            "5        6       Rebecca Ferguson     new york  bm185   netbanking\n",
            "6        7            Steffi Graf    stuttgart  vw171   debit card\n",
            "7        8           Keanu Reeves        tokyo  to191  credit card\n",
            "8        9       Sabastian Vettel   heppenheim  sk183  credit card\n",
            "9       10             Tom Cruise      chicago  bm201         cash\n",
            "10      11          Roger Federer    amsterdam  ho161  credit card\n",
            "11      12            Emily Blunt       london  vw172  credit card\n",
            "12      13         Shah Rukh Khan    new delhi  tt153   debit card\n",
            "13      14             A R Rahman      chennai  hd142         cash\n",
            "14      15                   Tabu    hyderabad  vw173   debit card\n",
            "15      16           Shabana Azmi       mumbai  ss210   debit card\n",
            "16      17                  Rekha      chennai  hd141         cash\n",
            "17      18       Amitabh Bachchan    allahabad  cs682         cash\n",
            "18      19             Imran Khan       lahore  to191   netbanking\n",
            "19      20           Dipika Singh       mumbai  to193   netbanking\n",
            "20      21              Alia Bhat      lucknow  hd142         cash\n",
            "21      22        Serena Williams     new york  ss210   netbanking\n",
            "22      23         Max Verstappen       berlin  rb739         cash\n",
            "23      24        Charles Leclerc  monte carlo  fr133   debit card\n",
            "24      25     Sylvester Stallone      Kolkata  ms134         cash\n",
            "25      26            Emily Blunt         Agra  ms131   netbanking\n"
          ]
        }
      ]
    },
    {
      "cell_type": "code",
      "source": [
        "con.close()"
      ],
      "metadata": {
        "id": "-LMhuM6ZI3rh"
      },
      "execution_count": null,
      "outputs": []
    }
  ]
}