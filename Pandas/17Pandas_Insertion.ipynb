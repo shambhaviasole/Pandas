{
  "nbformat": 4,
  "nbformat_minor": 0,
  "metadata": {
    "colab": {
      "provenance": []
    },
    "kernelspec": {
      "name": "python3",
      "display_name": "Python 3"
    },
    "language_info": {
      "name": "python"
    }
  },
  "cells": [
    {
      "cell_type": "code",
      "execution_count": null,
      "metadata": {
        "id": "sqlzSGwc-9uU"
      },
      "outputs": [],
      "source": [
        "import pandas"
      ]
    },
    {
      "cell_type": "code",
      "source": [
        "df=pandas.DataFrame(columns=['name','science','english','maths'])\n",
        "print(df)"
      ],
      "metadata": {
        "colab": {
          "base_uri": "https://localhost:8080/"
        },
        "id": "BfSh2Ntl_FNn",
        "outputId": "80cc0ede-befe-45e8-e089-16eb3abad48a"
      },
      "execution_count": null,
      "outputs": [
        {
          "output_type": "stream",
          "name": "stdout",
          "text": [
            "Empty DataFrame\n",
            "Columns: [name, science, english, maths]\n",
            "Index: []\n"
          ]
        }
      ]
    },
    {
      "cell_type": "code",
      "source": [
        "df.loc[0]=['Swami',94,86,98]\n",
        "print(df)"
      ],
      "metadata": {
        "colab": {
          "base_uri": "https://localhost:8080/"
        },
        "id": "NXa3PMyp_R4N",
        "outputId": "dc5237bb-01ed-4bc7-a846-5e967e7ab3f8"
      },
      "execution_count": null,
      "outputs": [
        {
          "output_type": "stream",
          "name": "stdout",
          "text": [
            "    name  science  english  maths\n",
            "0  Swami       94       86     98\n"
          ]
        }
      ]
    },
    {
      "cell_type": "code",
      "source": [
        "df.loc[1]=['praffull',79,72,37]\n",
        "print(df)"
      ],
      "metadata": {
        "colab": {
          "base_uri": "https://localhost:8080/"
        },
        "id": "XRZRQGv3_szz",
        "outputId": "c724701d-5410-4ede-9590-a527f421cc46"
      },
      "execution_count": null,
      "outputs": [
        {
          "output_type": "stream",
          "name": "stdout",
          "text": [
            "       name  science  english  maths\n",
            "0     Swami       94       86     98\n",
            "1  praffull       79       72     37\n"
          ]
        }
      ]
    },
    {
      "cell_type": "code",
      "source": [
        "df.loc[2,['name','maths']]=['ajinkya',91]"
      ],
      "metadata": {
        "id": "7N7n-yRDAFXO"
      },
      "execution_count": null,
      "outputs": []
    },
    {
      "cell_type": "code",
      "source": [
        "print(df)"
      ],
      "metadata": {
        "id": "HE7qRQVdAXn5",
        "outputId": "4852b591-eaa2-4839-89a5-d7fdcaaa8cec",
        "colab": {
          "base_uri": "https://localhost:8080/"
        }
      },
      "execution_count": null,
      "outputs": [
        {
          "output_type": "stream",
          "name": "stdout",
          "text": [
            "       name  science  english  maths\n",
            "0     Swami     94.0     86.0   98.0\n",
            "1  praffull     79.0     72.0   37.0\n",
            "2   ajinkya      NaN      NaN   91.0\n"
          ]
        }
      ]
    },
    {
      "cell_type": "code",
      "source": [
        "df.loc[2,'science']=67\n",
        "print(df)"
      ],
      "metadata": {
        "colab": {
          "base_uri": "https://localhost:8080/"
        },
        "id": "0o4eOCf_9lYI",
        "outputId": "cec50865-a1dc-4253-cae5-ea87eb386471"
      },
      "execution_count": null,
      "outputs": [
        {
          "output_type": "stream",
          "name": "stdout",
          "text": [
            "       name  science  english  maths\n",
            "0     Swami     94.0     86.0   98.0\n",
            "1  praffull     79.0     72.0   37.0\n",
            "2   ajinkya     67.0      NaN   91.0\n"
          ]
        }
      ]
    },
    {
      "cell_type": "code",
      "source": [
        "df.loc[1,'name']='jonty'\n",
        "print(df)"
      ],
      "metadata": {
        "colab": {
          "base_uri": "https://localhost:8080/"
        },
        "id": "1iqiW86w-E5n",
        "outputId": "cc7a3291-1095-4668-9836-fbbdc6770c63"
      },
      "execution_count": null,
      "outputs": [
        {
          "output_type": "stream",
          "name": "stdout",
          "text": [
            "      name  science  english  maths\n",
            "0    Swami     94.0     86.0   98.0\n",
            "1    jonty     79.0     72.0   37.0\n",
            "2  ajinkya     67.0      NaN   91.0\n"
          ]
        }
      ]
    },
    {
      "cell_type": "code",
      "source": [
        "dic={\n",
        "    'country':['usa','england','france','germany','japan'],\n",
        "    'capital':['washington','london','paris','berlin','tokyo']\n",
        "}\n",
        "df=pandas.DataFrame(dic)\n",
        "print(df)"
      ],
      "metadata": {
        "colab": {
          "base_uri": "https://localhost:8080/"
        },
        "id": "x23ZSrF2-YXP",
        "outputId": "642d4a37-fdd2-4b0a-8f2f-1eca79c47131"
      },
      "execution_count": null,
      "outputs": [
        {
          "output_type": "stream",
          "name": "stdout",
          "text": [
            "   country     capital\n",
            "0      usa  washington\n",
            "1  england      london\n",
            "2   france       paris\n",
            "3  germany      berlin\n",
            "4    japan       tokyo\n"
          ]
        }
      ]
    },
    {
      "cell_type": "code",
      "source": [
        "#df.insert(0,'code',[101,102,103,104,105])\n",
        "df.insert(0,'code',[x for x in range(131,136)])\n",
        "print(df)"
      ],
      "metadata": {
        "colab": {
          "base_uri": "https://localhost:8080/"
        },
        "id": "g022WdP3-84B",
        "outputId": "b71c7441-4473-4db9-dde0-97f7c3357426"
      },
      "execution_count": null,
      "outputs": [
        {
          "output_type": "stream",
          "name": "stdout",
          "text": [
            "   code  country     capital\n",
            "0   131      usa  washington\n",
            "1   132  england      london\n",
            "2   133   france       paris\n",
            "3   134  germany      berlin\n",
            "4   135    japan       tokyo\n"
          ]
        }
      ]
    },
    {
      "cell_type": "code",
      "source": [
        "lst=['USD','pounds','euro','euro','yen']\n",
        "df.insert(3,'currency',lst)"
      ],
      "metadata": {
        "id": "8WP3LeQT_21w"
      },
      "execution_count": null,
      "outputs": []
    },
    {
      "cell_type": "code",
      "source": [
        "print(df)"
      ],
      "metadata": {
        "colab": {
          "base_uri": "https://localhost:8080/"
        },
        "id": "vYLMiIq8ARLT",
        "outputId": "34941f2e-ae8b-4409-aaeb-71ec7d8962d3"
      },
      "execution_count": null,
      "outputs": [
        {
          "output_type": "stream",
          "name": "stdout",
          "text": [
            "   code  country     capital currency\n",
            "0   131      usa  washington      USD\n",
            "1   132  england      london   pounds\n",
            "2   133   france       paris     euro\n",
            "3   134  germany      berlin     euro\n",
            "4   135    japan       tokyo      yen\n"
          ]
        }
      ]
    }
  ]
}